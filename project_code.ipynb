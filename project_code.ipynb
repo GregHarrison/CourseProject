{
 "cells": [
  {
   "cell_type": "code",
   "execution_count": 1,
   "id": "c4edb3d9-52be-4cce-829a-c2b3f9dc5c4d",
   "metadata": {},
   "outputs": [],
   "source": [
    "from bs4 import BeautifulSoup\n",
    "from selenium import webdriver \n",
    "from selenium.webdriver.chrome.options import Options\n",
    "from selenium.webdriver.support.ui import WebDriverWait\n",
    "from selenium.common.exceptions import ElementNotVisibleException as NotVisible\n",
    "import pandas as pd\n",
    "import numpy as np\n",
    "import time\n",
    "import re\n",
    "from random import sample"
   ]
  },
  {
   "cell_type": "code",
   "execution_count": 2,
   "id": "d826b407-c347-47b1-a84d-96d6e0bebbf8",
   "metadata": {},
   "outputs": [],
   "source": [
    "#create a webdriver object and enable headless browsing\n",
    "options = Options()\n",
    "options.headless = True\n",
    "driver = webdriver.Chrome('./chromedriver',options=options)"
   ]
  },
  {
   "cell_type": "code",
   "execution_count": 3,
   "id": "b6c2790b-e84b-487e-bee5-d20ced739051",
   "metadata": {},
   "outputs": [],
   "source": [
    "def get_js_soup(url,driver):\n",
    "    \"\"\" Uses webdriver object to execute javascript code and get dynamically loaded webcontent\n",
    "        \n",
    "        Args:\n",
    "            url: a url for a webpage to be loaded by the webdriver\n",
    "            driver: a webdriver object         \n",
    "        \n",
    "        Returns:\n",
    "            A BeautifulSoup object containing the parsed html for the loaded webpage\n",
    "    \"\"\"\n",
    "    driver.get(url)\n",
    "    res_html = driver.execute_script('return document.body.innerHTML')\n",
    "    soup = BeautifulSoup(res_html,'html.parser')\n",
    "    return soup"
   ]
  },
  {
   "cell_type": "code",
   "execution_count": 4,
   "id": "b4ad78c9-5e8a-4fd4-9600-c68b4b7e64f0",
   "metadata": {},
   "outputs": [],
   "source": [
    "def scrape_categories(driver):\n",
    "    \"\"\" Gather all the categories of recipes on https://www.allrecipes.com/recipes/.\n",
    "    \n",
    "    Args:\n",
    "        driver: The webdriver.\n",
    "    \n",
    "    Returns:\n",
    "        A dataframe containing the name of each category and the url to all the recipes in that category.\n",
    "        \n",
    "    \"\"\"\n",
    "    categories = pd.DataFrame(columns=['category', 'url'])\n",
    "    url = 'https://www.allrecipes.com/recipes/'\n",
    "    soup = get_js_soup(url, driver)\n",
    "    \n",
    "    for category in soup.find_all('li', class_='carouselNav__listItem recipeCarousel__listItem'):\n",
    "        category_name = category.find('div', class_='carouselNav__linkText').text\n",
    "        category_url = category.find('a', class_='carouselNav__link recipeCarousel__link')['href']\n",
    "        categories = categories.append({'category':category_name, 'url':category_url}, ignore_index=True)\n",
    "    \n",
    "    return categories"
   ]
  },
  {
   "cell_type": "code",
   "execution_count": 5,
   "id": "f8e65430-6bea-481f-8ec8-1fbb0427e115",
   "metadata": {},
   "outputs": [],
   "source": [
    "def scrape_recipes(url, driver, num_pages):\n",
    "    \"\"\" Pull the names and urls for recipes on allrecipes.com\n",
    "    \n",
    "    Args:\n",
    "        url: The url for each recipe category, which contains a list of recipes.\n",
    "        driver: The webdriver.\n",
    "        num_pages: The number of pages of each recipe categroy to scrape.\n",
    "    \n",
    "    Returns:\n",
    "        An dataframe containing the name of each recipe scraped and its url.\n",
    "        \n",
    "    \"\"\"\n",
    "    recipes = pd.DataFrame(columns=['recipe_name', 'recipe_url'])\n",
    "    \n",
    "    for i in range(num_pages):\n",
    "        soup = get_js_soup(f'{url}?page={i+1}', driver)\n",
    "\n",
    "        for recipe in soup.find_all('div', class_='component tout'):\n",
    "            \n",
    "            # Check if the recipe is a Gallary of recipes. Do not include these.\n",
    "            if not recipe.find('span', class_='tout__contentFlagText'):\n",
    "                recipe_name = recipe.find('a', class_='tout__titleLink')['title']\n",
    "                recipe_url = recipe.find('a', class_='tout__titleLink')['href']\n",
    "                recipes = recipes.append({'recipe_name':recipe_name, 'recipe_url':\"https://www.allrecipes.com/\" + recipe_url}, ignore_index=True)\n",
    "    \n",
    "    return recipes"
   ]
  },
  {
   "cell_type": "code",
   "execution_count": 6,
   "id": "8531f6f8-f5c5-430f-9d34-f8bad70829a2",
   "metadata": {},
   "outputs": [],
   "source": [
    "def scrape_ingredients(url):\n",
    "    \"\"\" Scrapes the recipes webpage and pulls the recipes rating, ingredients, \n",
    "        the ingredient quantitiy, and the units for that quantity, e.g., grams or ounces.\n",
    "        Appends these to the dictionary, ingredients_dict.\n",
    "        \n",
    "        Args:\n",
    "            url: The url to a recipes webpage on allrecipes.com.\n",
    "\n",
    "    \"\"\"\n",
    "\n",
    "    soup = get_js_soup(url, driver)   \n",
    "\n",
    "    recipe_name = recipes.loc[recipes.recipe_url == url, 'recipe_name'].values[0]\n",
    "    \n",
    "    # If a rating section exists on the recipe page\n",
    "    if soup.find('span', class_='review-star-text'):\n",
    "        \n",
    "        # Some recipes have a rating section but have 'Unrated' rating. If this is not the case then extract the rating\n",
    "        if soup.find('span', class_='review-star-text').text != 'Rating: Unrated':\n",
    "            rating = soup.find('span', class_='review-star-text').text\n",
    "\n",
    "            # ratings are input as \"Rating: x.xx\". Remove all but numeric value and convert to float\n",
    "            rating = float(re.findall(r'\\d+\\.?\\d*', rating)[0])\n",
    "        else:\n",
    "            # If a rating doesn't exist, give it a value of 0.00\n",
    "            rating = 0.0\n",
    "    \n",
    "    for ingredients in soup.find_all('li', class_='ingredients-item'):        \n",
    "        ingredient = ingredients.find('input', class_='checkbox-list-input')['value']\n",
    "        quantity = ingredients.find('input', class_='checkbox-list-input')['data-init-quantity']\n",
    "        unit = ingredients.find('input', class_='checkbox-list-input')['data-unit']\n",
    "        ingredients_dict.append({'recipe':recipe_name, 'url':url, 'rating':rating, 'ingredient':ingredient, 'quantity':quantity, 'unit':unit})"
   ]
  },
  {
   "cell_type": "code",
   "execution_count": 7,
   "id": "17b253a6-6270-472d-8a8c-891292e485d8",
   "metadata": {},
   "outputs": [],
   "source": [
    "# gather the url for all categories\n",
    "categories = scrape_categories(driver)"
   ]
  },
  {
   "cell_type": "code",
   "execution_count": 8,
   "id": "8f714fee-06da-43a0-934f-dd555b481e13",
   "metadata": {},
   "outputs": [
    {
     "data": {
      "text/html": [
       "<div>\n",
       "<style scoped>\n",
       "    .dataframe tbody tr th:only-of-type {\n",
       "        vertical-align: middle;\n",
       "    }\n",
       "\n",
       "    .dataframe tbody tr th {\n",
       "        vertical-align: top;\n",
       "    }\n",
       "\n",
       "    .dataframe thead th {\n",
       "        text-align: right;\n",
       "    }\n",
       "</style>\n",
       "<table border=\"1\" class=\"dataframe\">\n",
       "  <thead>\n",
       "    <tr style=\"text-align: right;\">\n",
       "      <th></th>\n",
       "      <th>category</th>\n",
       "      <th>url</th>\n",
       "    </tr>\n",
       "  </thead>\n",
       "  <tbody>\n",
       "    <tr>\n",
       "      <th>0</th>\n",
       "      <td>Appetizers and Snacks</td>\n",
       "      <td>https://www.allrecipes.com/recipes/76/appetize...</td>\n",
       "    </tr>\n",
       "    <tr>\n",
       "      <th>1</th>\n",
       "      <td>BBQ &amp;amp; Grilling</td>\n",
       "      <td>https://www.allrecipes.com/recipes/88/bbq-gril...</td>\n",
       "    </tr>\n",
       "    <tr>\n",
       "      <th>2</th>\n",
       "      <td>Bread Recipes</td>\n",
       "      <td>https://www.allrecipes.com/recipes/156/bread/</td>\n",
       "    </tr>\n",
       "    <tr>\n",
       "      <th>3</th>\n",
       "      <td>Breakfast and Brunch</td>\n",
       "      <td>https://www.allrecipes.com/recipes/78/breakfas...</td>\n",
       "    </tr>\n",
       "    <tr>\n",
       "      <th>4</th>\n",
       "      <td>Desserts</td>\n",
       "      <td>https://www.allrecipes.com/recipes/79/desserts/</td>\n",
       "    </tr>\n",
       "    <tr>\n",
       "      <th>5</th>\n",
       "      <td>Dinner Recipes</td>\n",
       "      <td>https://www.allrecipes.com/recipes/17562/dinner/</td>\n",
       "    </tr>\n",
       "    <tr>\n",
       "      <th>6</th>\n",
       "      <td>Drinks</td>\n",
       "      <td>https://www.allrecipes.com/recipes/77/drinks/</td>\n",
       "    </tr>\n",
       "    <tr>\n",
       "      <th>7</th>\n",
       "      <td>Everyday Cooking</td>\n",
       "      <td>https://www.allrecipes.com/recipes/1642/everyd...</td>\n",
       "    </tr>\n",
       "    <tr>\n",
       "      <th>8</th>\n",
       "      <td>Fruits, Vegetables and Other Produce</td>\n",
       "      <td>https://www.allrecipes.com/recipes/1116/fruits...</td>\n",
       "    </tr>\n",
       "    <tr>\n",
       "      <th>9</th>\n",
       "      <td>Holidays and Events</td>\n",
       "      <td>https://www.allrecipes.com/recipes/85/holidays...</td>\n",
       "    </tr>\n",
       "    <tr>\n",
       "      <th>10</th>\n",
       "      <td>Ingredients</td>\n",
       "      <td>https://www.allrecipes.com/recipes/17567/ingre...</td>\n",
       "    </tr>\n",
       "    <tr>\n",
       "      <th>11</th>\n",
       "      <td>Lunch Recipes</td>\n",
       "      <td>https://www.allrecipes.com/recipes/17561/lunch/</td>\n",
       "    </tr>\n",
       "    <tr>\n",
       "      <th>12</th>\n",
       "      <td>Main Dishes</td>\n",
       "      <td>https://www.allrecipes.com/recipes/80/main-dish/</td>\n",
       "    </tr>\n",
       "    <tr>\n",
       "      <th>13</th>\n",
       "      <td>Meat and Poultry</td>\n",
       "      <td>https://www.allrecipes.com/recipes/92/meat-and...</td>\n",
       "    </tr>\n",
       "    <tr>\n",
       "      <th>14</th>\n",
       "      <td>Pasta and Noodles</td>\n",
       "      <td>https://www.allrecipes.com/recipes/95/pasta-an...</td>\n",
       "    </tr>\n",
       "    <tr>\n",
       "      <th>15</th>\n",
       "      <td>Salad Recipes</td>\n",
       "      <td>https://www.allrecipes.com/recipes/96/salad/</td>\n",
       "    </tr>\n",
       "    <tr>\n",
       "      <th>16</th>\n",
       "      <td>Seafood Recipes</td>\n",
       "      <td>https://www.allrecipes.com/recipes/93/seafood/</td>\n",
       "    </tr>\n",
       "    <tr>\n",
       "      <th>17</th>\n",
       "      <td>Side Dishes</td>\n",
       "      <td>https://www.allrecipes.com/recipes/81/side-dish/</td>\n",
       "    </tr>\n",
       "    <tr>\n",
       "      <th>18</th>\n",
       "      <td>Soups, Stews and Chili</td>\n",
       "      <td>https://www.allrecipes.com/recipes/94/soups-st...</td>\n",
       "    </tr>\n",
       "    <tr>\n",
       "      <th>19</th>\n",
       "      <td>Trusted Brands</td>\n",
       "      <td>https://www.allrecipes.com/recipes/82/trusted-...</td>\n",
       "    </tr>\n",
       "    <tr>\n",
       "      <th>20</th>\n",
       "      <td>U.S. Recipes</td>\n",
       "      <td>https://www.allrecipes.com/recipes/236/us-reci...</td>\n",
       "    </tr>\n",
       "    <tr>\n",
       "      <th>21</th>\n",
       "      <td>World Cuisine</td>\n",
       "      <td>https://www.allrecipes.com/recipes/86/world-cu...</td>\n",
       "    </tr>\n",
       "  </tbody>\n",
       "</table>\n",
       "</div>"
      ],
      "text/plain": [
       "                                  category  \\\n",
       "0                   Appetizers and Snacks    \n",
       "1                      BBQ &amp; Grilling    \n",
       "2                           Bread Recipes    \n",
       "3                    Breakfast and Brunch    \n",
       "4                                Desserts    \n",
       "5                          Dinner Recipes    \n",
       "6                                  Drinks    \n",
       "7                        Everyday Cooking    \n",
       "8    Fruits, Vegetables and Other Produce    \n",
       "9                     Holidays and Events    \n",
       "10                            Ingredients    \n",
       "11                          Lunch Recipes    \n",
       "12                            Main Dishes    \n",
       "13                       Meat and Poultry    \n",
       "14                      Pasta and Noodles    \n",
       "15                          Salad Recipes    \n",
       "16                        Seafood Recipes    \n",
       "17                            Side Dishes    \n",
       "18                 Soups, Stews and Chili    \n",
       "19                         Trusted Brands    \n",
       "20                           U.S. Recipes    \n",
       "21                          World Cuisine    \n",
       "\n",
       "                                                  url  \n",
       "0   https://www.allrecipes.com/recipes/76/appetize...  \n",
       "1   https://www.allrecipes.com/recipes/88/bbq-gril...  \n",
       "2       https://www.allrecipes.com/recipes/156/bread/  \n",
       "3   https://www.allrecipes.com/recipes/78/breakfas...  \n",
       "4     https://www.allrecipes.com/recipes/79/desserts/  \n",
       "5    https://www.allrecipes.com/recipes/17562/dinner/  \n",
       "6       https://www.allrecipes.com/recipes/77/drinks/  \n",
       "7   https://www.allrecipes.com/recipes/1642/everyd...  \n",
       "8   https://www.allrecipes.com/recipes/1116/fruits...  \n",
       "9   https://www.allrecipes.com/recipes/85/holidays...  \n",
       "10  https://www.allrecipes.com/recipes/17567/ingre...  \n",
       "11    https://www.allrecipes.com/recipes/17561/lunch/  \n",
       "12   https://www.allrecipes.com/recipes/80/main-dish/  \n",
       "13  https://www.allrecipes.com/recipes/92/meat-and...  \n",
       "14  https://www.allrecipes.com/recipes/95/pasta-an...  \n",
       "15       https://www.allrecipes.com/recipes/96/salad/  \n",
       "16     https://www.allrecipes.com/recipes/93/seafood/  \n",
       "17   https://www.allrecipes.com/recipes/81/side-dish/  \n",
       "18  https://www.allrecipes.com/recipes/94/soups-st...  \n",
       "19  https://www.allrecipes.com/recipes/82/trusted-...  \n",
       "20  https://www.allrecipes.com/recipes/236/us-reci...  \n",
       "21  https://www.allrecipes.com/recipes/86/world-cu...  "
      ]
     },
     "execution_count": 8,
     "metadata": {},
     "output_type": "execute_result"
    }
   ],
   "source": [
    "categories"
   ]
  },
  {
   "cell_type": "code",
   "execution_count": 9,
   "id": "94142885-91c9-4d25-8641-7ed88e6617cb",
   "metadata": {
    "tags": []
   },
   "outputs": [],
   "source": [
    "# Loop through each category and scrape recipes\n",
    "recipes = pd.DataFrame(columns=['recipe_name', 'recipe_url'])\n",
    "\n",
    "for i in range(len(categories)):\n",
    "    recipes = recipes.append(scrape_recipes(categories.url[i], driver, 2))\n",
    "    \n",
    "# Uncomment below line to save recipes to a csv file\n",
    "# recipes.to_csv('recipes.csv')"
   ]
  },
  {
   "cell_type": "code",
   "execution_count": 10,
   "id": "77888788-16be-407f-ac9c-69db2ee7a52f",
   "metadata": {},
   "outputs": [
    {
     "data": {
      "text/html": [
       "<div>\n",
       "<style scoped>\n",
       "    .dataframe tbody tr th:only-of-type {\n",
       "        vertical-align: middle;\n",
       "    }\n",
       "\n",
       "    .dataframe tbody tr th {\n",
       "        vertical-align: top;\n",
       "    }\n",
       "\n",
       "    .dataframe thead th {\n",
       "        text-align: right;\n",
       "    }\n",
       "</style>\n",
       "<table border=\"1\" class=\"dataframe\">\n",
       "  <thead>\n",
       "    <tr style=\"text-align: right;\">\n",
       "      <th></th>\n",
       "      <th>recipe_name</th>\n",
       "      <th>recipe_url</th>\n",
       "    </tr>\n",
       "  </thead>\n",
       "  <tbody>\n",
       "    <tr>\n",
       "      <th>0</th>\n",
       "      <td>Herbed Pomegranate Salsa</td>\n",
       "      <td>https://www.allrecipes.com//recipe/38034/herbe...</td>\n",
       "    </tr>\n",
       "    <tr>\n",
       "      <th>1</th>\n",
       "      <td>Easy Guacamole</td>\n",
       "      <td>https://www.allrecipes.com//recipe/14064/easy-...</td>\n",
       "    </tr>\n",
       "    <tr>\n",
       "      <th>2</th>\n",
       "      <td>Chef John's Fresh Salmon Cakes</td>\n",
       "      <td>https://www.allrecipes.com//recipe/239541/chef...</td>\n",
       "    </tr>\n",
       "    <tr>\n",
       "      <th>3</th>\n",
       "      <td>Roasted Green Beans</td>\n",
       "      <td>https://www.allrecipes.com//recipe/229349/roas...</td>\n",
       "    </tr>\n",
       "    <tr>\n",
       "      <th>4</th>\n",
       "      <td>Balsamic Bruschetta</td>\n",
       "      <td>https://www.allrecipes.com//recipe/54165/balsa...</td>\n",
       "    </tr>\n",
       "    <tr>\n",
       "      <th>...</th>\n",
       "      <td>...</td>\n",
       "      <td>...</td>\n",
       "    </tr>\n",
       "    <tr>\n",
       "      <th>19</th>\n",
       "      <td>Daddy Eddie's Roast Pork (Pernil), Puerto Rica...</td>\n",
       "      <td>https://www.allrecipes.com//recipe/254168/dadd...</td>\n",
       "    </tr>\n",
       "    <tr>\n",
       "      <th>20</th>\n",
       "      <td>Stuffed Cabbage Rolls</td>\n",
       "      <td>https://www.allrecipes.com//recipe/26661/stuff...</td>\n",
       "    </tr>\n",
       "    <tr>\n",
       "      <th>21</th>\n",
       "      <td>Sweet and Sour Sauce I</td>\n",
       "      <td>https://www.allrecipes.com//recipe/19670/sweet...</td>\n",
       "    </tr>\n",
       "    <tr>\n",
       "      <th>22</th>\n",
       "      <td>Egg Drop Soup (Better than Restaurant Quality!)</td>\n",
       "      <td>https://www.allrecipes.com//recipe/115965/egg-...</td>\n",
       "    </tr>\n",
       "    <tr>\n",
       "      <th>23</th>\n",
       "      <td>Perfect Lemon Curd</td>\n",
       "      <td>https://www.allrecipes.com//recipe/53683/perfe...</td>\n",
       "    </tr>\n",
       "  </tbody>\n",
       "</table>\n",
       "<p>478 rows × 2 columns</p>\n",
       "</div>"
      ],
      "text/plain": [
       "                                          recipe_name  \\\n",
       "0                            Herbed Pomegranate Salsa   \n",
       "1                                      Easy Guacamole   \n",
       "2                      Chef John's Fresh Salmon Cakes   \n",
       "3                                 Roasted Green Beans   \n",
       "4                                 Balsamic Bruschetta   \n",
       "..                                                ...   \n",
       "19  Daddy Eddie's Roast Pork (Pernil), Puerto Rica...   \n",
       "20                              Stuffed Cabbage Rolls   \n",
       "21                             Sweet and Sour Sauce I   \n",
       "22    Egg Drop Soup (Better than Restaurant Quality!)   \n",
       "23                                 Perfect Lemon Curd   \n",
       "\n",
       "                                           recipe_url  \n",
       "0   https://www.allrecipes.com//recipe/38034/herbe...  \n",
       "1   https://www.allrecipes.com//recipe/14064/easy-...  \n",
       "2   https://www.allrecipes.com//recipe/239541/chef...  \n",
       "3   https://www.allrecipes.com//recipe/229349/roas...  \n",
       "4   https://www.allrecipes.com//recipe/54165/balsa...  \n",
       "..                                                ...  \n",
       "19  https://www.allrecipes.com//recipe/254168/dadd...  \n",
       "20  https://www.allrecipes.com//recipe/26661/stuff...  \n",
       "21  https://www.allrecipes.com//recipe/19670/sweet...  \n",
       "22  https://www.allrecipes.com//recipe/115965/egg-...  \n",
       "23  https://www.allrecipes.com//recipe/53683/perfe...  \n",
       "\n",
       "[478 rows x 2 columns]"
      ]
     },
     "execution_count": 10,
     "metadata": {},
     "output_type": "execute_result"
    }
   ],
   "source": [
    "recipes"
   ]
  },
  {
   "cell_type": "code",
   "execution_count": 7,
   "id": "d11bade0-e329-4a7b-ba7a-40d22ff9eb6d",
   "metadata": {},
   "outputs": [],
   "source": [
    "# Read the saved recipes csv file to a dataframe. Dropping duplicates because there are ~500 duplicate entries in the ~18000 recipes in recipes.csv\n",
    "recipes = pd.read_csv('recipes.csv', index_col=0).drop_duplicates()"
   ]
  },
  {
   "cell_type": "code",
   "execution_count": 52,
   "id": "73623de8-a91d-444d-8826-49d6860c3c93",
   "metadata": {
    "collapsed": true,
    "jupyter": {
     "outputs_hidden": true,
     "source_hidden": true
    },
    "tags": []
   },
   "outputs": [
    {
     "name": "stdout",
     "output_type": "stream",
     "text": [
      "7.106196403503418\n"
     ]
    }
   ],
   "source": [
    "# Run scrape recipes on each url in the recipes dataframe.\n",
    "# This saves some time by performing this as a multithreaded process\n",
    "\n",
    "# import concurrent.futures\n",
    "# ingredients_dict = []\n",
    "# start = time.time()\n",
    "# with concurrent.futures.ThreadPoolExecutor() as executor:\n",
    "#     executor.map(scrape_ingredients, list(recipes.recipe_url))\n",
    "# end = time.time()\n",
    "# print(end-start)"
   ]
  },
  {
   "cell_type": "code",
   "execution_count": 27,
   "id": "b77eb1d8-9a82-4a65-aeac-da8bfdad3fe6",
   "metadata": {
    "tags": []
   },
   "outputs": [
    {
     "name": "stdout",
     "output_type": "stream",
     "text": [
      "12.172820568084717\n"
     ]
    }
   ],
   "source": [
    "# Run scrape recipes on each url in the recipes dataframe.\n",
    "ingredients_dict = []\n",
    "start = time.time()\n",
    "for url in recipes.recipe_url[:5]:\n",
    "    scrape_ingredients(url)\n",
    "end = time.time()\n",
    "print(end-start)\n",
    "\n",
    "# Convert dictionary to a pandas dataframe \n",
    "scraped_ingredients = pd.DataFrame.from_dict(ingredients_dict)"
   ]
  },
  {
   "cell_type": "markdown",
   "id": "204588c9-63f9-4e5b-942c-beab9ac25b22",
   "metadata": {
    "tags": []
   },
   "source": [
    "### Ingredients table cleanup"
   ]
  },
  {
   "cell_type": "code",
   "execution_count": 13,
   "id": "8b45d5f1-387c-494a-a73b-198e2757625f",
   "metadata": {},
   "outputs": [],
   "source": [
    "# Import ingredients from file\n",
    "ingredients = pd.read_csv('scraped_ingredients.csv', index_col=0).drop(['recipe_num'], axis=1).drop_duplicates()"
   ]
  },
  {
   "cell_type": "markdown",
   "id": "a02a3bcf-b30c-4b4e-a359-82415303c6c7",
   "metadata": {},
   "source": [
    "##### Some ingredients have some additional information between parentheses, for example, \"gochujang (Korean hot pepper paste)\" and \"lemon (for zesting)\".  The following removes the parantheses and its contents."
   ]
  },
  {
   "cell_type": "code",
   "execution_count": 15,
   "id": "539dec00-e3e6-4c1b-af8b-cf23f8dfc2b3",
   "metadata": {},
   "outputs": [],
   "source": [
    "ingredients.ingredient = ingredients.ingredient.str.replace('\\(.*?\\)', '', regex=True)\n",
    "\n",
    "# Strip whitespace at beginning and end of ingredient and make all ingredients lower case\n",
    "ingredients.ingredient = ingredients.ingredient.str.strip().str.lower()"
   ]
  },
  {
   "cell_type": "markdown",
   "id": "f5c8f315-1e97-4bae-94c3-376e0319777b",
   "metadata": {},
   "source": [
    "##### Remove the word \"sprig\", \"pinch\", \"jar\", \"stick\", \"bunch\", and \"jigger\" from the start of ingredients. For example, change \"pinch salt\" to \"salt\" and \"jigger lime juice\" ro \"lime juice\"."
   ]
  },
  {
   "cell_type": "code",
   "execution_count": 16,
   "id": "5887e8be-4450-4887-8813-14e3a5eaa3cb",
   "metadata": {},
   "outputs": [],
   "source": [
    "ingredients.ingredient = ingredients.ingredient.str.replace('^(sprig|jar|pinch|stick|jigger|bunch) ', '', regex=True)"
   ]
  },
  {
   "cell_type": "markdown",
   "id": "d7aa7ca4-e758-4095-9fee-bd8ea7cba021",
   "metadata": {},
   "source": [
    "##### Some ingredients end with \"cooked\" or \"raw\". The follow removes these words from the ingredient name."
   ]
  },
  {
   "cell_type": "code",
   "execution_count": 17,
   "id": "4929021a-09e0-4821-8316-21197fc61192",
   "metadata": {},
   "outputs": [],
   "source": [
    "ingredients.ingredient = ingredients.ingredient.str.replace(', (raw|cooked)$', '', regex=True)"
   ]
  },
  {
   "cell_type": "code",
   "execution_count": 18,
   "id": "5a4385d0-2297-463a-8d69-579de51d7f80",
   "metadata": {},
   "outputs": [],
   "source": [
    "# Save to csv\n",
    "ingredients.to_csv('recipe_ingredients.csv')"
   ]
  },
  {
   "cell_type": "markdown",
   "id": "918ac24e-1e67-451c-9e3d-fe87a5ca071e",
   "metadata": {},
   "source": [
    "## Filtering by ingredients"
   ]
  },
  {
   "cell_type": "markdown",
   "id": "64198c1c-561c-4348-8f96-7276aadb8c9d",
   "metadata": {},
   "source": [
    "Generating a random list of ingredients from the data set, to simulate a list of ingredients that a user may create"
   ]
  },
  {
   "cell_type": "code",
   "execution_count": 3,
   "id": "a58df7c3-30fd-43b5-8453-d5f6831945c2",
   "metadata": {},
   "outputs": [],
   "source": [
    "ingredients = pd.read_csv('recipe_ingredients.csv', index_col=0)"
   ]
  },
  {
   "cell_type": "code",
   "execution_count": 37,
   "id": "f00e854e-2a39-4e25-af99-0a70d856b8df",
   "metadata": {},
   "outputs": [],
   "source": [
    "pantry = sample(list(ingredients.ingredient.unique()), 200)\n",
    "pd.DataFrame(pantry, columns=['ingredients']).to_csv('pantry.csv')"
   ]
  },
  {
   "cell_type": "code",
   "execution_count": 43,
   "id": "75fc0b7e-8d70-48c3-a314-1fd2d6bfbc4d",
   "metadata": {},
   "outputs": [],
   "source": [
    "pantry = pd.read_csv('pantry.csv', index_col=0)\n",
    "pantry = pantry['ingredients'].to_list()"
   ]
  },
  {
   "cell_type": "markdown",
   "id": "28919a04-db85-4845-8233-c89aadbf40c0",
   "metadata": {},
   "source": [
    "## Providing Recomendation"
   ]
  },
  {
   "cell_type": "code",
   "execution_count": 46,
   "id": "ec093273-c14d-4ef4-b1ea-b612bc7a9995",
   "metadata": {},
   "outputs": [],
   "source": [
    "def get_recommendation(ingredients, pantry):\n",
    "    \"\"\" Creates a dataframe of recipes that a user can make based on the ingredients in their pantry\n",
    "    \n",
    "    Args:\n",
    "        ingredients: A dataframe of all recipes and ingredients scraped from allrecipes.com\n",
    "        pantry: a list of ingredients from the user\n",
    "    \n",
    "    Returns:\n",
    "        A dataframe containing the recipe name, rating, and url for recipes that a user can make\n",
    "        based on the ingredients that the user provided. The recipes in the returned dataframe are\n",
    "        sorted in descending order based on the recipe's rating.\n",
    "    \n",
    "    \"\"\"\n",
    "    ingredients = pd.read_csv('recipe_ingredients.csv', index_col=[0])\n",
    "    \n",
    "    # Filter ingredients dataframe to only include ingredients that are in the users pantry.\n",
    "    # This will provide a list of recipes for which the user has some or all of the ingredients for.\n",
    "    matched_recipes = ingredients[ingredients.isin({'ingredient': pantry}).ingredient]\n",
    "    \n",
    "    # Get the full ingredients list for all recipes for which the user has some of the ingredients\n",
    "    full_matched_recipes = ingredients[ingredients['recipe'].isin(pd.unique(matched_recipes['recipe']))]\n",
    "    \n",
    "    # Compare the number of ingredients between the two dataframes. This will tell which recipes the user has all of the ingredients for.\n",
    "    comparison = matched_recipes.groupby(['recipe']).nunique()['ingredient'] == full_matched_recipes.groupby(['recipe']).nunique()['ingredient']\n",
    "    \n",
    "    # Retreive all of the recipe names for which the user has all of the ingredients for\n",
    "    user_recipes = matched_recipes.recipe.unique()[comparison]\n",
    "    \n",
    "    # Provide a list of recipes that the user can make ranked by the rating of the recipe\n",
    "    recommendation = ingredients.loc[ingredients.recipe.isin(user_recipes)][['recipe', 'rating', 'url']].drop_duplicates().sort_values(by=['rating'], ascending=False)\n",
    "    \n",
    "    return recommendation"
   ]
  },
  {
   "cell_type": "code",
   "execution_count": 47,
   "id": "2b0f1895-3deb-4d47-86df-e3c84eb05b9d",
   "metadata": {},
   "outputs": [],
   "source": [
    "recommendation = get_recommendation(ingredients, pantry)"
   ]
  },
  {
   "cell_type": "code",
   "execution_count": 48,
   "id": "fd431a38-8dc5-400e-8029-e9d8e42fb3d8",
   "metadata": {},
   "outputs": [
    {
     "data": {
      "text/html": [
       "<div>\n",
       "<style scoped>\n",
       "    .dataframe tbody tr th:only-of-type {\n",
       "        vertical-align: middle;\n",
       "    }\n",
       "\n",
       "    .dataframe tbody tr th {\n",
       "        vertical-align: top;\n",
       "    }\n",
       "\n",
       "    .dataframe thead th {\n",
       "        text-align: right;\n",
       "    }\n",
       "</style>\n",
       "<table border=\"1\" class=\"dataframe\">\n",
       "  <thead>\n",
       "    <tr style=\"text-align: right;\">\n",
       "      <th></th>\n",
       "      <th>recipe</th>\n",
       "      <th>rating</th>\n",
       "      <th>url</th>\n",
       "    </tr>\n",
       "  </thead>\n",
       "  <tbody>\n",
       "    <tr>\n",
       "      <th>354</th>\n",
       "      <td>Dessert Crepes</td>\n",
       "      <td>4.80</td>\n",
       "      <td>https://www.allrecipes.com//recipe/19037/desse...</td>\n",
       "    </tr>\n",
       "    <tr>\n",
       "      <th>9954</th>\n",
       "      <td>Tom's Blackened Seasoning</td>\n",
       "      <td>4.70</td>\n",
       "      <td>https://www.allrecipes.com//recipe/64761/toms-...</td>\n",
       "    </tr>\n",
       "    <tr>\n",
       "      <th>282</th>\n",
       "      <td>Brie Cheese Appetizer</td>\n",
       "      <td>4.69</td>\n",
       "      <td>https://www.allrecipes.com//recipe/15015/brie-...</td>\n",
       "    </tr>\n",
       "    <tr>\n",
       "      <th>4880</th>\n",
       "      <td>Sarah's Knish</td>\n",
       "      <td>4.61</td>\n",
       "      <td>https://www.allrecipes.com//recipe/212834/sara...</td>\n",
       "    </tr>\n",
       "    <tr>\n",
       "      <th>6585</th>\n",
       "      <td>Habanero Salsa</td>\n",
       "      <td>4.60</td>\n",
       "      <td>https://www.allrecipes.com//recipe/38886/haban...</td>\n",
       "    </tr>\n",
       "    <tr>\n",
       "      <th>10445</th>\n",
       "      <td>Garlic and Herb Marinade</td>\n",
       "      <td>4.55</td>\n",
       "      <td>https://www.allrecipes.com//recipe/19777/garli...</td>\n",
       "    </tr>\n",
       "    <tr>\n",
       "      <th>14900</th>\n",
       "      <td>Steak Taco</td>\n",
       "      <td>4.50</td>\n",
       "      <td>https://www.allrecipes.com//recipe/240212/stea...</td>\n",
       "    </tr>\n",
       "  </tbody>\n",
       "</table>\n",
       "</div>"
      ],
      "text/plain": [
       "                          recipe  rating  \\\n",
       "354               Dessert Crepes    4.80   \n",
       "9954   Tom's Blackened Seasoning    4.70   \n",
       "282        Brie Cheese Appetizer    4.69   \n",
       "4880               Sarah's Knish    4.61   \n",
       "6585              Habanero Salsa    4.60   \n",
       "10445   Garlic and Herb Marinade    4.55   \n",
       "14900                 Steak Taco    4.50   \n",
       "\n",
       "                                                     url  \n",
       "354    https://www.allrecipes.com//recipe/19037/desse...  \n",
       "9954   https://www.allrecipes.com//recipe/64761/toms-...  \n",
       "282    https://www.allrecipes.com//recipe/15015/brie-...  \n",
       "4880   https://www.allrecipes.com//recipe/212834/sara...  \n",
       "6585   https://www.allrecipes.com//recipe/38886/haban...  \n",
       "10445  https://www.allrecipes.com//recipe/19777/garli...  \n",
       "14900  https://www.allrecipes.com//recipe/240212/stea...  "
      ]
     },
     "execution_count": 48,
     "metadata": {},
     "output_type": "execute_result"
    }
   ],
   "source": [
    "recommendation.head(20)"
   ]
  },
  {
   "cell_type": "code",
   "execution_count": null,
   "id": "36710b98-574d-4925-9bde-f8a5a68fb721",
   "metadata": {},
   "outputs": [],
   "source": []
  }
 ],
 "metadata": {
  "kernelspec": {
   "display_name": "Python 3",
   "language": "python",
   "name": "python3"
  },
  "language_info": {
   "codemirror_mode": {
    "name": "ipython",
    "version": 3
   },
   "file_extension": ".py",
   "mimetype": "text/x-python",
   "name": "python",
   "nbconvert_exporter": "python",
   "pygments_lexer": "ipython3",
   "version": "3.7.10"
  }
 },
 "nbformat": 4,
 "nbformat_minor": 5
}
